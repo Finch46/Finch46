{
  "nbformat": 4,
  "nbformat_minor": 0,
  "metadata": {
    "colab": {
      "name": "Stats Assign. (Central Tendency& Dispersion).ipynb",
      "provenance": [],
      "collapsed_sections": [],
      "include_colab_link": true
    },
    "kernelspec": {
      "name": "python3",
      "display_name": "Python 3"
    }
  },
  "cells": [
    {
      "cell_type": "markdown",
      "metadata": {
        "id": "view-in-github",
        "colab_type": "text"
      },
      "source": [
        "<a href=\"https://colab.research.google.com/github/Finch46/Finch46/blob/main/Stats_Assign_(Central_Tendency%26_Dispersion).ipynb\" target=\"_parent\"><img src=\"https://colab.research.google.com/assets/colab-badge.svg\" alt=\"Open In Colab\"/></a>"
      ]
    },
    {
      "cell_type": "markdown",
      "metadata": {
        "id": "K7S4cEyZLTp7"
      },
      "source": [
        "## Descriptive Statistics"
      ]
    },
    {
      "cell_type": "markdown",
      "metadata": {
        "id": "vZRYVyc8H7hi"
      },
      "source": [
        " Import **NumPy**, **SciPy**, and **Pandas**"
      ]
    },
    {
      "cell_type": "code",
      "metadata": {
        "id": "7ShN0klrHIk3"
      },
      "source": [
        "import numpy as np\n",
        "from scipy import stats\n",
        "import pandas as pd\n",
        "import random"
      ],
      "execution_count": 32,
      "outputs": []
    },
    {
      "cell_type": "markdown",
      "metadata": {
        "id": "_SaQURIqIA6d"
      },
      "source": [
        " Randomly generate 1,000 samples from the normal distribution using `np.random.normal()`(mean = 100, standard deviation = 15)\n",
        "\n",
        "np.random.normal(loc=0.0, scale=1.0, size=None)  #you need to modify this code.\n",
        "\n",
        "loc will be equal to mean, scale will be equal to std deviation, size will be equal to sample size."
      ]
    },
    {
      "cell_type": "code",
      "metadata": {
        "id": "Jyw_FMX0IRkm",
        "outputId": "209f81f2-24e4-4a8e-d86f-1ab54fa5e642",
        "colab": {
          "base_uri": "https://localhost:8080/"
        }
      },
      "source": [
        "random.seed(10)\n",
        "rand_num = [random.randint(0,1000) for i in range(1000)]\n",
        " \n",
        "print(rand_num[0:1000])"
      ],
      "execution_count": 33,
      "outputs": [
        {
          "output_type": "stream",
          "name": "stdout",
          "text": [
            "[585, 33, 439, 494, 591, 15, 211, 473, 832, 503, 843, 284, 669, 830, 164, 35, 533, 501, 335, 77, 255, 975, 975, 763, 369, 45, 430, 880, 142, 617, 363, 390, 431, 290, 846, 691, 268, 467, 178, 702, 310, 677, 371, 136, 467, 786, 880, 245, 992, 450, 628, 384, 45, 596, 4, 241, 137, 199, 963, 931, 310, 549, 374, 790, 919, 245, 321, 682, 562, 461, 446, 481, 66, 668, 598, 332, 864, 513, 160, 862, 229, 993, 422, 244, 37, 32, 508, 308, 837, 621, 673, 73, 546, 946, 875, 82, 153, 393, 580, 968, 383, 934, 615, 153, 115, 986, 794, 791, 98, 452, 170, 826, 195, 970, 357, 443, 993, 424, 456, 251, 697, 281, 146, 632, 534, 182, 885, 122, 273, 466, 309, 168, 676, 664, 965, 840, 178, 796, 180, 491, 791, 355, 335, 445, 229, 5, 557, 729, 44, 339, 918, 327, 248, 81, 268, 458, 414, 596, 162, 399, 942, 890, 507, 689, 914, 247, 753, 537, 932, 278, 532, 494, 616, 511, 64, 170, 501, 690, 472, 919, 410, 139, 430, 554, 598, 357, 551, 397, 501, 718, 169, 572, 451, 101, 991, 997, 425, 848, 36, 892, 2, 449, 548, 66, 51, 358, 94, 155, 111, 622, 464, 853, 818, 496, 142, 469, 882, 446, 793, 513, 944, 457, 351, 743, 265, 919, 807, 714, 469, 433, 336, 665, 532, 931, 535, 157, 757, 243, 330, 633, 33, 703, 200, 658, 926, 602, 589, 849, 643, 490, 25, 826, 119, 985, 303, 445, 871, 879, 252, 735, 296, 910, 91, 47, 611, 935, 563, 785, 985, 108, 836, 292, 166, 686, 488, 144, 369, 609, 410, 941, 805, 196, 358, 186, 81, 605, 199, 436, 212, 98, 700, 315, 908, 985, 474, 883, 761, 769, 711, 847, 534, 739, 433, 458, 680, 761, 568, 213, 272, 611, 373, 118, 642, 801, 642, 7, 214, 434, 624, 418, 895, 391, 892, 831, 667, 204, 71, 790, 433, 816, 91, 843, 56, 356, 260, 368, 467, 434, 777, 198, 643, 767, 289, 477, 711, 301, 518, 511, 519, 929, 269, 414, 452, 654, 349, 357, 743, 283, 494, 927, 457, 873, 488, 601, 491, 85, 706, 552, 737, 375, 820, 739, 414, 932, 812, 172, 987, 617, 425, 737, 577, 67, 609, 867, 751, 856, 313, 16, 605, 335, 667, 329, 75, 758, 406, 624, 382, 289, 620, 190, 246, 172, 315, 97, 569, 809, 836, 958, 54, 225, 583, 762, 75, 973, 431, 196, 583, 585, 449, 936, 998, 823, 890, 607, 16, 401, 206, 347, 868, 909, 588, 195, 535, 955, 829, 577, 782, 789, 977, 855, 334, 891, 48, 673, 708, 592, 51, 37, 578, 374, 880, 957, 406, 332, 615, 653, 175, 791, 161, 120, 620, 808, 885, 353, 168, 31, 740, 943, 549, 523, 824, 357, 90, 406, 449, 591, 902, 356, 61, 149, 946, 886, 455, 723, 482, 624, 462, 739, 452, 618, 179, 362, 843, 433, 842, 844, 351, 978, 572, 525, 469, 397, 199, 99, 443, 656, 156, 42, 954, 880, 191, 655, 649, 194, 583, 439, 998, 931, 812, 922, 368, 572, 385, 983, 51, 619, 53, 169, 318, 979, 972, 228, 50, 593, 180, 102, 651, 578, 369, 856, 190, 309, 970, 870, 43, 405, 612, 781, 439, 79, 353, 777, 199, 503, 166, 172, 415, 828, 770, 986, 479, 963, 795, 336, 899, 38, 177, 853, 900, 180, 595, 723, 430, 156, 525, 657, 911, 713, 401, 992, 96, 406, 982, 832, 121, 240, 109, 432, 739, 654, 318, 740, 296, 546, 665, 869, 912, 101, 353, 853, 928, 534, 634, 486, 622, 250, 545, 297, 12, 681, 161, 986, 693, 395, 710, 234, 99, 522, 652, 780, 485, 102, 590, 927, 408, 596, 223, 294, 363, 71, 992, 903, 193, 637, 882, 571, 543, 26, 76, 409, 830, 32, 17, 668, 857, 440, 346, 853, 940, 182, 744, 48, 367, 332, 640, 487, 806, 175, 19, 210, 130, 296, 982, 840, 206, 252, 927, 252, 395, 629, 558, 598, 609, 428, 894, 564, 779, 31, 128, 5, 126, 28, 858, 56, 702, 789, 785, 182, 127, 709, 394, 69, 14, 677, 444, 756, 677, 187, 639, 431, 923, 48, 564, 173, 54, 719, 385, 592, 470, 466, 343, 190, 35, 408, 642, 470, 500, 975, 726, 730, 373, 681, 72, 142, 271, 259, 180, 93, 471, 13, 157, 284, 80, 931, 537, 315, 144, 785, 107, 549, 123, 294, 722, 633, 826, 342, 829, 3, 589, 265, 650, 955, 771, 529, 437, 896, 521, 149, 730, 60, 649, 57, 623, 61, 661, 216, 548, 14, 219, 150, 313, 881, 707, 862, 428, 154, 879, 27, 383, 528, 685, 727, 118, 489, 306, 475, 871, 474, 179, 925, 640, 144, 28, 412, 623, 157, 462, 672, 920, 717, 845, 837, 791, 183, 346, 518, 685, 480, 158, 44, 501, 604, 398, 170, 480, 718, 280, 216, 506, 532, 361, 669, 983, 576, 787, 975, 875, 569, 388, 152, 912, 657, 975, 324, 756, 961, 324, 133, 56, 468, 54, 689, 342, 992, 540, 534, 49, 389, 624, 794, 941, 805, 83, 935, 714, 738, 36, 130, 34, 10, 953, 374, 445, 226, 675, 489, 854, 579, 938, 677, 740, 958, 92, 105, 69, 982, 375, 827, 466, 438, 318, 181, 767, 129, 782, 645, 409, 556, 714, 553, 197, 697, 974, 763, 247, 736, 159, 858, 391, 223, 883, 527, 612, 501, 702, 849, 837, 679, 395, 807, 982, 195, 69, 548, 746, 767, 158, 874, 620, 605, 551, 133, 73, 672, 405, 466, 90, 874, 971, 214, 960, 12, 465, 183, 680, 174, 375, 393, 647, 212, 253, 341, 306, 603, 265, 158, 60, 496, 426, 364, 349, 5, 333, 690, 300, 513, 919, 794, 715, 897, 602, 49, 416, 731, 290, 470, 174, 895, 844, 118, 912, 858, 428, 439, 94, 123, 473, 165, 898, 811, 75, 839, 387, 544, 82, 977, 7, 532, 846, 741, 563, 266, 584, 494, 920, 885, 87, 431, 967, 118]\n"
          ]
        }
      ]
    },
    {
      "cell_type": "markdown",
      "metadata": {
        "id": "CDF8m3a4IYOC"
      },
      "source": [
        "Compute the **mean**, **median**, and **mode**"
      ]
    },
    {
      "cell_type": "code",
      "metadata": {
        "id": "ZKbeqxaKIoNs",
        "outputId": "392508a8-ac3d-4523-f863-f1652cc8d528",
        "colab": {
          "base_uri": "https://localhost:8080/"
        }
      },
      "source": [
        "rand_mean= np.mean(rand_num)\n",
        "print(\"mean:\", rand_mean)\n",
        "rand_median = np.median(rand_num)\n",
        "print(\"median:\", rand_median)\n",
        "rand_mode = stats.mode(rand_num)\n",
        "print(\"mode:\", rand_mode)\n"
      ],
      "execution_count": 34,
      "outputs": [
        {
          "output_type": "stream",
          "name": "stdout",
          "text": [
            "mean: 499.242\n",
            "median: 491.0\n",
            "mode: ModeResult(mode=array([501]), count=array([5]))\n"
          ]
        }
      ]
    },
    {
      "cell_type": "markdown",
      "metadata": {
        "id": "skT8m39XI60w"
      },
      "source": [
        "Compute the **min**, **max**, **Q1**, **Q3**, and **interquartile range**"
      ]
    },
    {
      "cell_type": "code",
      "metadata": {
        "id": "VaiDphm8It0O",
        "colab": {
          "base_uri": "https://localhost:8080/"
        },
        "outputId": "51325522-f1fb-41e1-abf0-f77336cda27a"
      },
      "source": [
        "np.percentile(rand_num, 25)"
      ],
      "execution_count": 35,
      "outputs": [
        {
          "output_type": "execute_result",
          "data": {
            "text/plain": [
              "249.5"
            ]
          },
          "metadata": {},
          "execution_count": 35
        }
      ]
    },
    {
      "cell_type": "code",
      "source": [
        "np.percentile(rand_num, 75)"
      ],
      "metadata": {
        "colab": {
          "base_uri": "https://localhost:8080/"
        },
        "id": "YpglHt4G4P9d",
        "outputId": "4720def0-2a79-4eec-ad2e-17fb11d05d4f"
      },
      "execution_count": 36,
      "outputs": [
        {
          "output_type": "execute_result",
          "data": {
            "text/plain": [
              "740.0"
            ]
          },
          "metadata": {},
          "execution_count": 36
        }
      ]
    },
    {
      "cell_type": "code",
      "source": [
        "np.percentile(rand_num, 75) - np.percentile(rand_num, 25)"
      ],
      "metadata": {
        "outputId": "780f09c4-b652-4cd7-9192-0328f305e91b",
        "colab": {
          "base_uri": "https://localhost:8080/"
        },
        "id": "k87s8H5-4Zy3"
      },
      "execution_count": 37,
      "outputs": [
        {
          "output_type": "execute_result",
          "data": {
            "text/plain": [
              "490.5"
            ]
          },
          "metadata": {},
          "execution_count": 37
        }
      ]
    },
    {
      "cell_type": "code",
      "source": [
        "stats.iqr(rand_num)"
      ],
      "metadata": {
        "id": "tfVTH_ip4RCM",
        "outputId": "c3a37127-067e-4b03-a2d3-2148731027d1",
        "colab": {
          "base_uri": "https://localhost:8080/"
        }
      },
      "execution_count": 40,
      "outputs": [
        {
          "output_type": "execute_result",
          "data": {
            "text/plain": [
              "490.5"
            ]
          },
          "metadata": {},
          "execution_count": 40
        }
      ]
    },
    {
      "cell_type": "code",
      "source": [
        "print(\"minimum: \", min(rand_num))\n",
        "print(\"maximum: \", max(rand_num))"
      ],
      "metadata": {
        "id": "WEFBp-PD4RXe",
        "outputId": "281fbd4c-5692-4af0-cdb5-7431617e7b51",
        "colab": {
          "base_uri": "https://localhost:8080/"
        }
      },
      "execution_count": 39,
      "outputs": [
        {
          "output_type": "stream",
          "name": "stdout",
          "text": [
            "minimum:  2\n",
            "maximum:  998\n"
          ]
        }
      ]
    },
    {
      "cell_type": "code",
      "source": [
        "np.var(rand_num)"
      ],
      "metadata": {
        "colab": {
          "base_uri": "https://localhost:8080/"
        },
        "id": "XFH7cLmf5cCK",
        "outputId": "11389ea4-fc92-49f6-d105-128862402f9f"
      },
      "execution_count": 42,
      "outputs": [
        {
          "output_type": "execute_result",
          "data": {
            "text/plain": [
              "82747.84343600001"
            ]
          },
          "metadata": {},
          "execution_count": 42
        }
      ]
    },
    {
      "cell_type": "code",
      "source": [
        "np.std(rand_num)"
      ],
      "metadata": {
        "id": "3YQYr1-C5cLx",
        "outputId": "4929ded6-954e-476c-9b83-8d4ee6e23317",
        "colab": {
          "base_uri": "https://localhost:8080/"
        }
      },
      "execution_count": 43,
      "outputs": [
        {
          "output_type": "execute_result",
          "data": {
            "text/plain": [
              "287.6592488274973"
            ]
          },
          "metadata": {},
          "execution_count": 43
        }
      ]
    },
    {
      "cell_type": "code",
      "source": [
        "from scipy. stats import skew\n"
      ],
      "metadata": {
        "id": "I7rTOUej8H_H"
      },
      "execution_count": 45,
      "outputs": []
    },
    {
      "cell_type": "code",
      "source": [
        "from scipy. stats import kurtosis\n"
      ],
      "metadata": {
        "id": "egWZOlEf9kyP"
      },
      "execution_count": 49,
      "outputs": []
    },
    {
      "cell_type": "code",
      "source": [
        "print(skew(rand_num))"
      ],
      "metadata": {
        "id": "T6xsJ0om8S-l",
        "outputId": "c3c35c4f-17fb-4212-bf19-f0ac943fc246",
        "colab": {
          "base_uri": "https://localhost:8080/"
        }
      },
      "execution_count": 46,
      "outputs": [
        {
          "output_type": "stream",
          "name": "stdout",
          "text": [
            "0.00356384763032434\n"
          ]
        }
      ]
    },
    {
      "cell_type": "code",
      "source": [
        "kurtosis(rand_num, bias=False)"
      ],
      "metadata": {
        "id": "YzM088Et8IK_",
        "outputId": "28770b82-a1f2-4705-a123-dd2757a69cb8",
        "colab": {
          "base_uri": "https://localhost:8080/"
        }
      },
      "execution_count": 53,
      "outputs": [
        {
          "output_type": "execute_result",
          "data": {
            "text/plain": [
              "-1.158634460770585"
            ]
          },
          "metadata": {},
          "execution_count": 53
        }
      ]
    },
    {
      "cell_type": "markdown",
      "metadata": {
        "id": "m53Dv3n5JHQi"
      },
      "source": [
        "Compute the **variance** and **standard deviation**"
      ]
    },
    {
      "cell_type": "markdown",
      "metadata": {
        "id": "5eup4hI1JzqX"
      },
      "source": [
        "Compute the **skewness** and **kurtosis**\n",
        "\n",
        "You can use [`scipy.stats.skew`](https://docs.scipy.org/doc/scipy/reference/generated/scipy.stats.skew.html) and [`scipy.stats.kurtosis`](https://docs.scipy.org/doc/scipy/reference/generated/scipy.stats.kurtosis.html)"
      ]
    },
    {
      "cell_type": "markdown",
      "metadata": {
        "id": "a5UNc8PUKnbU"
      },
      "source": [
        "## NumPy Correlation Calculation"
      ]
    },
    {
      "cell_type": "markdown",
      "metadata": {
        "id": "cLiqxE1CMNTg"
      },
      "source": [
        "Create an array x of integers between 10 (inclusive) and 20 (exclusive). Use `np.arange()`"
      ]
    },
    {
      "cell_type": "code",
      "metadata": {
        "id": "5LAaQ6w5L-2L",
        "outputId": "87de171b-5118-45a5-f0d8-44e1368d2e9c",
        "colab": {
          "base_uri": "https://localhost:8080/"
        }
      },
      "source": [
        " x = np.arange(start=10, stop=20)\n",
        " x"
      ],
      "execution_count": 67,
      "outputs": [
        {
          "output_type": "execute_result",
          "data": {
            "text/plain": [
              "array([10, 11, 12, 13, 14, 15, 16, 17, 18, 19])"
            ]
          },
          "metadata": {},
          "execution_count": 67
        }
      ]
    },
    {
      "cell_type": "markdown",
      "metadata": {
        "id": "qyCIaukNMZPf"
      },
      "source": [
        "Then use `np.array()` to create a second array y containing 10 arbitrary integers."
      ]
    },
    {
      "cell_type": "code",
      "metadata": {
        "id": "p27eW__gNMdh",
        "outputId": "6dd579ba-2937-458f-e7ad-70e1a157a890",
        "colab": {
          "base_uri": "https://localhost:8080/"
        }
      },
      "source": [
        "y = np.array([3,6,4,2,5,9,7,1,7,4])\n",
        "y"
      ],
      "execution_count": 68,
      "outputs": [
        {
          "output_type": "execute_result",
          "data": {
            "text/plain": [
              "array([3, 6, 4, 2, 5, 9, 7, 1, 7, 4])"
            ]
          },
          "metadata": {},
          "execution_count": 68
        }
      ]
    },
    {
      "cell_type": "markdown",
      "metadata": {
        "id": "Kh_VeKwINSqS"
      },
      "source": [
        "Once you have two arrays of the same length, you can compute the **correlation coefficient** between x and y"
      ]
    },
    {
      "cell_type": "code",
      "source": [
        "import pandas as pd"
      ],
      "metadata": {
        "id": "idrNnGCjCYaO"
      },
      "execution_count": 74,
      "outputs": []
    },
    {
      "cell_type": "code",
      "source": [
        "corr(x,y)"
      ],
      "metadata": {
        "id": "teIHSLHYCaJz",
        "outputId": "1d8044e9-0dc8-4ffb-c8bf-60cc4e255271",
        "colab": {
          "base_uri": "https://localhost:8080/",
          "height": 169
        }
      },
      "execution_count": 73,
      "outputs": [
        {
          "output_type": "error",
          "ename": "NameError",
          "evalue": "ignored",
          "traceback": [
            "\u001b[0;31m---------------------------------------------------------------------------\u001b[0m",
            "\u001b[0;31mNameError\u001b[0m                                 Traceback (most recent call last)",
            "\u001b[0;32m<ipython-input-73-796d40554ab4>\u001b[0m in \u001b[0;36m<module>\u001b[0;34m()\u001b[0m\n\u001b[0;32m----> 1\u001b[0;31m \u001b[0mcorr\u001b[0m\u001b[0;34m(\u001b[0m\u001b[0mx\u001b[0m\u001b[0;34m,\u001b[0m\u001b[0my\u001b[0m\u001b[0;34m)\u001b[0m\u001b[0;34m\u001b[0m\u001b[0;34m\u001b[0m\u001b[0m\n\u001b[0m",
            "\u001b[0;31mNameError\u001b[0m: name 'corr' is not defined"
          ]
        }
      ]
    },
    {
      "cell_type": "markdown",
      "metadata": {
        "id": "vXieLjYiNtPi"
      },
      "source": [
        "## Pandas Correlation Calculation"
      ]
    },
    {
      "cell_type": "markdown",
      "metadata": {
        "id": "z56t0k0qNvkr"
      },
      "source": [
        "Run the code below"
      ]
    },
    {
      "cell_type": "code",
      "metadata": {
        "id": "9AVBMJCyNuwb"
      },
      "source": [
        "x = pd.Series(range(10, 20))\n",
        "y = pd.Series([2, 1, 4, 5, 8, 12, 18, 25, 96, 48])"
      ],
      "execution_count": null,
      "outputs": []
    },
    {
      "cell_type": "markdown",
      "metadata": {
        "id": "ZajVXYe2OCih"
      },
      "source": [
        "Call the relevant method  to calculate Pearson's r correlation."
      ]
    },
    {
      "cell_type": "code",
      "metadata": {
        "id": "Ak_rkzbLOafj"
      },
      "source": [
        "r ="
      ],
      "execution_count": null,
      "outputs": []
    },
    {
      "cell_type": "markdown",
      "metadata": {
        "id": "1CygSbnROb9V"
      },
      "source": [
        "OPTIONAL. Call the relevant method to calculate Spearman's rho correlation."
      ]
    },
    {
      "cell_type": "code",
      "metadata": {
        "id": "xp_QkXwmOlYY"
      },
      "source": [
        "rho ="
      ],
      "execution_count": null,
      "outputs": []
    },
    {
      "cell_type": "markdown",
      "metadata": {
        "id": "we7pg7kdOo7y"
      },
      "source": [
        "## Seaborn Dataset Tips"
      ]
    },
    {
      "cell_type": "markdown",
      "metadata": {
        "id": "VlzgFKN7OvqX"
      },
      "source": [
        "Import Seaborn Library"
      ]
    },
    {
      "cell_type": "code",
      "metadata": {
        "id": "t-49JRRqO4pw"
      },
      "source": [
        "import "
      ],
      "execution_count": null,
      "outputs": []
    },
    {
      "cell_type": "markdown",
      "metadata": {
        "id": "0INVBB4tO4y4"
      },
      "source": [
        "Load \"tips\" dataset from Seaborn"
      ]
    },
    {
      "cell_type": "code",
      "metadata": {
        "id": "kieLvcM1PBv7"
      },
      "source": [
        "tips = sns.load_dataset(\"tips\")"
      ],
      "execution_count": null,
      "outputs": []
    },
    {
      "cell_type": "markdown",
      "metadata": {
        "id": "o2ISqVQrPh5S"
      },
      "source": [
        "Generate descriptive statistics include those that summarize the central tendency, dispersion"
      ]
    },
    {
      "cell_type": "code",
      "metadata": {
        "id": "FyFvmdbJPVg6"
      },
      "source": [
        ""
      ],
      "execution_count": null,
      "outputs": []
    },
    {
      "cell_type": "markdown",
      "metadata": {
        "id": "3yCRK4VJPzRo"
      },
      "source": [
        "Call the relevant method to calculate pairwise Pearson's r correlation of columns"
      ]
    },
    {
      "cell_type": "code",
      "metadata": {
        "id": "qwvGzDU8PGnM"
      },
      "source": [
        ""
      ],
      "execution_count": null,
      "outputs": []
    }
  ]
}